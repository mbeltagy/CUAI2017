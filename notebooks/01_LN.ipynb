{
 "cells": [
  {
   "cell_type": "markdown",
   "metadata": {},
   "source": [
    "# Sigmoid neurons simulating perceptrons, part I  and II"
   ]
  },
  {
   "cell_type": "markdown",
   "metadata": {},
   "source": [
    "A first approach in to deal with sigmoid/perceptorn input as a function "
   ]
  },
  {
   "cell_type": "code",
   "execution_count": 1,
   "metadata": {
    "collapsed": false
   },
   "outputs": [
    {
     "data": {
      "text/plain": [
       "step (generic function with 1 method)"
      ]
     },
     "execution_count": 1,
     "metadata": {},
     "output_type": "execute_result"
    }
   ],
   "source": [
    "function step(x,w)\n",
    "    dot(x,w) >0\n",
    "end"
   ]
  },
  {
   "cell_type": "code",
   "execution_count": 77,
   "metadata": {
    "collapsed": false
   },
   "outputs": [
    {
     "data": {
      "text/plain": [
       "step (generic function with 2 methods)"
      ]
     },
     "execution_count": 77,
     "metadata": {},
     "output_type": "execute_result"
    }
   ],
   "source": [
    "step(z)=(z>0)? 1: 0"
   ]
  },
  {
   "cell_type": "code",
   "execution_count": 80,
   "metadata": {
    "collapsed": false
   },
   "outputs": [
    {
     "data": {
      "text/plain": [
       "step (generic function with 2 methods)"
      ]
     },
     "execution_count": 80,
     "metadata": {},
     "output_type": "execute_result"
    }
   ],
   "source": [
    "step{T}(z::T)=(z>zero(T))? one(T): zero(T)"
   ]
  },
  {
   "cell_type": "code",
   "execution_count": 40,
   "metadata": {
    "collapsed": false
   },
   "outputs": [],
   "source": [
    "# First element is set to 1 fo bias \n",
    "x1,x2,x3=10,6,-4\n",
    "x=[1,x1,x2,x3]\n",
    "w=[-11,4,-1,6];"
   ]
  },
  {
   "cell_type": "code",
   "execution_count": 41,
   "metadata": {
    "collapsed": false
   },
   "outputs": [
    {
     "data": {
      "text/plain": [
       "false"
      ]
     },
     "execution_count": 41,
     "metadata": {},
     "output_type": "execute_result"
    }
   ],
   "source": [
    "step(x,w)"
   ]
  },
  {
   "cell_type": "markdown",
   "metadata": {},
   "source": [
    "Now for a single perceptron I will test if I mutiply everything by a constant"
   ]
  },
  {
   "cell_type": "code",
   "execution_count": 45,
   "metadata": {
    "collapsed": false
   },
   "outputs": [
    {
     "data": {
      "text/plain": [
       "false"
      ]
     },
     "execution_count": 45,
     "metadata": {},
     "output_type": "execute_result"
    }
   ],
   "source": [
    "c=13\n",
    "step(x,w*c)"
   ]
  },
  {
   "cell_type": "code",
   "execution_count": 44,
   "metadata": {
    "collapsed": false
   },
   "outputs": [],
   "source": [
    "# To make a proper test, we put things in a loop!\n",
    "for c=0.1:0.01:10\n",
    "    step(x,w*c) && println(\"OOPS something is wrong $c\")\n",
    "end"
   ]
  },
  {
   "cell_type": "code",
   "execution_count": 31,
   "metadata": {
    "collapsed": false
   },
   "outputs": [
    {
     "data": {
      "text/plain": [
       "true"
      ]
     },
     "execution_count": 31,
     "metadata": {},
     "output_type": "execute_result"
    }
   ],
   "source": [
    "step(x,w*-9.9)"
   ]
  },
  {
   "cell_type": "code",
   "execution_count": 32,
   "metadata": {
    "collapsed": false
   },
   "outputs": [
    {
     "data": {
      "text/plain": [
       "2.842170943040401e-14"
      ]
     },
     "execution_count": 32,
     "metadata": {},
     "output_type": "execute_result"
    }
   ],
   "source": [
    "dot(x,w*-9.9)"
   ]
  },
  {
   "cell_type": "markdown",
   "metadata": {},
   "source": [
    "When doing a full network, might be good to check the following [code review](https://codereview.stackexchange.com/questions/69628/neural-network-in-julia)"
   ]
  },
  {
   "cell_type": "code",
   "execution_count": 60,
   "metadata": {
    "collapsed": false
   },
   "outputs": [
    {
     "data": {
      "text/plain": [
       "sigmoid (generic function with 1 method)"
      ]
     },
     "execution_count": 60,
     "metadata": {},
     "output_type": "execute_result"
    }
   ],
   "source": [
    "sigmoid(z)=1.0/(1.0+exp(-z))"
   ]
  },
  {
   "cell_type": "code",
   "execution_count": 62,
   "metadata": {
    "collapsed": false
   },
   "outputs": [
    {
     "data": {
      "text/plain": [
       "0.9933071490764626"
      ]
     },
     "execution_count": 62,
     "metadata": {},
     "output_type": "execute_result"
    }
   ],
   "source": [
    "sigmoid(5.0f0)"
   ]
  },
  {
   "cell_type": "code",
   "execution_count": 64,
   "metadata": {
    "collapsed": false
   },
   "outputs": [
    {
     "data": {
      "text/plain": [
       "0.9933083248076996"
      ]
     },
     "execution_count": 64,
     "metadata": {},
     "output_type": "execute_result"
    }
   ],
   "source": [
    "sigmoid(Float16(5.0))"
   ]
  },
  {
   "cell_type": "code",
   "execution_count": 65,
   "metadata": {
    "collapsed": false
   },
   "outputs": [
    {
     "data": {
      "text/plain": [
       "sigmoid (generic function with 1 method)"
      ]
     },
     "execution_count": 65,
     "metadata": {},
     "output_type": "execute_result"
    }
   ],
   "source": [
    "# The above works well assuming we are dealing with Float64\n",
    "# If we want a type agnostic vesion\n",
    "sigmoid{T}(z::T)=one(T)/(one(T)+exp(-z))"
   ]
  },
  {
   "cell_type": "code",
   "execution_count": 66,
   "metadata": {
    "collapsed": false
   },
   "outputs": [
    {
     "data": {
      "text/plain": [
       "0.9933072f0"
      ]
     },
     "execution_count": 66,
     "metadata": {},
     "output_type": "execute_result"
    }
   ],
   "source": [
    "sigmoid(5.0f0)"
   ]
  },
  {
   "cell_type": "code",
   "execution_count": 67,
   "metadata": {
    "collapsed": false
   },
   "outputs": [
    {
     "data": {
      "text/plain": [
       "Float16(0.993)"
      ]
     },
     "execution_count": 67,
     "metadata": {},
     "output_type": "execute_result"
    }
   ],
   "source": [
    "sigmoid(Float16(5.0))"
   ]
  },
  {
   "cell_type": "code",
   "execution_count": 69,
   "metadata": {
    "collapsed": false
   },
   "outputs": [],
   "source": [
    "using Plots"
   ]
  },
  {
   "cell_type": "code",
   "execution_count": 84,
   "metadata": {
    "collapsed": false
   },
   "outputs": [
    {
     "data": {
      "text/html": [
       "<?xml version=\"1.0\" encoding=\"utf-8\"?>\n",
       "<svg xmlns=\"http://www.w3.org/2000/svg\" xmlns:xlink=\"http://www.w3.org/1999/xlink\" width=\"600\" height=\"400\" viewBox=\"0 0 600 400\">\n",
       "<defs>\n",
       "  <clipPath id=\"clip00\">\n",
       "    <rect x=\"0\" y=\"0\" width=\"600\" height=\"400\"/>\n",
       "  </clipPath>\n",
       "</defs>\n",
       "<polygon clip-path=\"url(#clip00)\" points=\"\n",
       "0,400 600,400 600,0 0,0 \n",
       "  \" fill=\"#ffffff\" fill-opacity=\"1\"/>\n",
       "<defs>\n",
       "  <clipPath id=\"clip01\">\n",
       "    <rect x=\"120\" y=\"0\" width=\"421\" height=\"400\"/>\n",
       "  </clipPath>\n",
       "</defs>\n",
       "<polygon clip-path=\"url(#clip00)\" points=\"\n",
       "32.2221,375.813 580.315,375.813 580.315,11.811 32.2221,11.811 \n",
       "  \" fill=\"#ffffff\" fill-opacity=\"1\"/>\n",
       "<defs>\n",
       "  <clipPath id=\"clip02\">\n",
       "    <rect x=\"32\" y=\"11\" width=\"549\" height=\"365\"/>\n",
       "  </clipPath>\n",
       "</defs>\n",
       "<polyline clip-path=\"url(#clip02)\" style=\"stroke:#000000; stroke-width:0.5; stroke-opacity:0.1; fill:none\" points=\"\n",
       "  32.2221,370.353 32.2221,17.2711 \n",
       "  \"/>\n",
       "<polyline clip-path=\"url(#clip02)\" style=\"stroke:#000000; stroke-width:0.5; stroke-opacity:0.1; fill:none\" points=\"\n",
       "  169.245,370.353 169.245,17.2711 \n",
       "  \"/>\n",
       "<polyline clip-path=\"url(#clip02)\" style=\"stroke:#000000; stroke-width:0.5; stroke-opacity:0.1; fill:none\" points=\"\n",
       "  306.269,370.353 306.269,17.2711 \n",
       "  \"/>\n",
       "<polyline clip-path=\"url(#clip02)\" style=\"stroke:#000000; stroke-width:0.5; stroke-opacity:0.1; fill:none\" points=\"\n",
       "  443.292,370.353 443.292,17.2711 \n",
       "  \"/>\n",
       "<polyline clip-path=\"url(#clip02)\" style=\"stroke:#000000; stroke-width:0.5; stroke-opacity:0.1; fill:none\" points=\"\n",
       "  580.315,370.353 580.315,17.2711 \n",
       "  \"/>\n",
       "<polyline clip-path=\"url(#clip02)\" style=\"stroke:#000000; stroke-width:0.5; stroke-opacity:0.1; fill:none\" points=\"\n",
       "  40.4435,375.813 572.094,375.813 \n",
       "  \"/>\n",
       "<polyline clip-path=\"url(#clip02)\" style=\"stroke:#000000; stroke-width:0.5; stroke-opacity:0.1; fill:none\" points=\"\n",
       "  40.4435,303.013 572.094,303.013 \n",
       "  \"/>\n",
       "<polyline clip-path=\"url(#clip02)\" style=\"stroke:#000000; stroke-width:0.5; stroke-opacity:0.1; fill:none\" points=\"\n",
       "  40.4435,230.212 572.094,230.212 \n",
       "  \"/>\n",
       "<polyline clip-path=\"url(#clip02)\" style=\"stroke:#000000; stroke-width:0.5; stroke-opacity:0.1; fill:none\" points=\"\n",
       "  40.4435,157.412 572.094,157.412 \n",
       "  \"/>\n",
       "<polyline clip-path=\"url(#clip02)\" style=\"stroke:#000000; stroke-width:0.5; stroke-opacity:0.1; fill:none\" points=\"\n",
       "  40.4435,84.6115 572.094,84.6115 \n",
       "  \"/>\n",
       "<polyline clip-path=\"url(#clip02)\" style=\"stroke:#000000; stroke-width:0.5; stroke-opacity:0.1; fill:none\" points=\"\n",
       "  40.4435,11.811 572.094,11.811 \n",
       "  \"/>\n",
       "<polyline clip-path=\"url(#clip00)\" style=\"stroke:#000000; stroke-width:1; stroke-opacity:1; fill:none\" points=\"\n",
       "  32.2221,375.813 580.315,375.813 \n",
       "  \"/>\n",
       "<polyline clip-path=\"url(#clip00)\" style=\"stroke:#000000; stroke-width:1; stroke-opacity:1; fill:none\" points=\"\n",
       "  32.2221,375.813 32.2221,370.353 \n",
       "  \"/>\n",
       "<polyline clip-path=\"url(#clip00)\" style=\"stroke:#000000; stroke-width:1; stroke-opacity:1; fill:none\" points=\"\n",
       "  169.245,375.813 169.245,370.353 \n",
       "  \"/>\n",
       "<polyline clip-path=\"url(#clip00)\" style=\"stroke:#000000; stroke-width:1; stroke-opacity:1; fill:none\" points=\"\n",
       "  306.269,375.813 306.269,370.353 \n",
       "  \"/>\n",
       "<polyline clip-path=\"url(#clip00)\" style=\"stroke:#000000; stroke-width:1; stroke-opacity:1; fill:none\" points=\"\n",
       "  443.292,375.813 443.292,370.353 \n",
       "  \"/>\n",
       "<polyline clip-path=\"url(#clip00)\" style=\"stroke:#000000; stroke-width:1; stroke-opacity:1; fill:none\" points=\"\n",
       "  580.315,375.813 580.315,370.353 \n",
       "  \"/>\n",
       "<polyline clip-path=\"url(#clip00)\" style=\"stroke:#000000; stroke-width:1; stroke-opacity:1; fill:none\" points=\"\n",
       "  32.2221,375.813 32.2221,11.811 \n",
       "  \"/>\n",
       "<polyline clip-path=\"url(#clip00)\" style=\"stroke:#000000; stroke-width:1; stroke-opacity:1; fill:none\" points=\"\n",
       "  32.2221,375.813 40.4435,375.813 \n",
       "  \"/>\n",
       "<polyline clip-path=\"url(#clip00)\" style=\"stroke:#000000; stroke-width:1; stroke-opacity:1; fill:none\" points=\"\n",
       "  32.2221,303.013 40.4435,303.013 \n",
       "  \"/>\n",
       "<polyline clip-path=\"url(#clip00)\" style=\"stroke:#000000; stroke-width:1; stroke-opacity:1; fill:none\" points=\"\n",
       "  32.2221,230.212 40.4435,230.212 \n",
       "  \"/>\n",
       "<polyline clip-path=\"url(#clip00)\" style=\"stroke:#000000; stroke-width:1; stroke-opacity:1; fill:none\" points=\"\n",
       "  32.2221,157.412 40.4435,157.412 \n",
       "  \"/>\n",
       "<polyline clip-path=\"url(#clip00)\" style=\"stroke:#000000; stroke-width:1; stroke-opacity:1; fill:none\" points=\"\n",
       "  32.2221,84.6115 40.4435,84.6115 \n",
       "  \"/>\n",
       "<polyline clip-path=\"url(#clip00)\" style=\"stroke:#000000; stroke-width:1; stroke-opacity:1; fill:none\" points=\"\n",
       "  32.2221,11.811 40.4435,11.811 \n",
       "  \"/>\n",
       "<g clip-path=\"url(#clip00)\">\n",
       "<text style=\"fill:#000000; fill-opacity:1; font-family:Arial,Helvetica Neue,Helvetica,sans-serif; font-size:12; text-anchor:middle;\" transform=\"rotate(0, 32.2221, 389.613)\" x=\"32.2221\" y=\"389.613\">-5.0</text>\n",
       "</g>\n",
       "<g clip-path=\"url(#clip00)\">\n",
       "<text style=\"fill:#000000; fill-opacity:1; font-family:Arial,Helvetica Neue,Helvetica,sans-serif; font-size:12; text-anchor:middle;\" transform=\"rotate(0, 169.245, 389.613)\" x=\"169.245\" y=\"389.613\">-2.5</text>\n",
       "</g>\n",
       "<g clip-path=\"url(#clip00)\">\n",
       "<text style=\"fill:#000000; fill-opacity:1; font-family:Arial,Helvetica Neue,Helvetica,sans-serif; font-size:12; text-anchor:middle;\" transform=\"rotate(0, 306.269, 389.613)\" x=\"306.269\" y=\"389.613\">0.0</text>\n",
       "</g>\n",
       "<g clip-path=\"url(#clip00)\">\n",
       "<text style=\"fill:#000000; fill-opacity:1; font-family:Arial,Helvetica Neue,Helvetica,sans-serif; font-size:12; text-anchor:middle;\" transform=\"rotate(0, 443.292, 389.613)\" x=\"443.292\" y=\"389.613\">2.5</text>\n",
       "</g>\n",
       "<g clip-path=\"url(#clip00)\">\n",
       "<text style=\"fill:#000000; fill-opacity:1; font-family:Arial,Helvetica Neue,Helvetica,sans-serif; font-size:12; text-anchor:middle;\" transform=\"rotate(0, 580.315, 389.613)\" x=\"580.315\" y=\"389.613\">5.0</text>\n",
       "</g>\n",
       "<g clip-path=\"url(#clip00)\">\n",
       "<text style=\"fill:#000000; fill-opacity:1; font-family:Arial,Helvetica Neue,Helvetica,sans-serif; font-size:12; text-anchor:end;\" transform=\"rotate(0, 26.2221, 380.313)\" x=\"26.2221\" y=\"380.313\">0.0</text>\n",
       "</g>\n",
       "<g clip-path=\"url(#clip00)\">\n",
       "<text style=\"fill:#000000; fill-opacity:1; font-family:Arial,Helvetica Neue,Helvetica,sans-serif; font-size:12; text-anchor:end;\" transform=\"rotate(0, 26.2221, 307.513)\" x=\"26.2221\" y=\"307.513\">0.2</text>\n",
       "</g>\n",
       "<g clip-path=\"url(#clip00)\">\n",
       "<text style=\"fill:#000000; fill-opacity:1; font-family:Arial,Helvetica Neue,Helvetica,sans-serif; font-size:12; text-anchor:end;\" transform=\"rotate(0, 26.2221, 234.712)\" x=\"26.2221\" y=\"234.712\">0.4</text>\n",
       "</g>\n",
       "<g clip-path=\"url(#clip00)\">\n",
       "<text style=\"fill:#000000; fill-opacity:1; font-family:Arial,Helvetica Neue,Helvetica,sans-serif; font-size:12; text-anchor:end;\" transform=\"rotate(0, 26.2221, 161.912)\" x=\"26.2221\" y=\"161.912\">0.6</text>\n",
       "</g>\n",
       "<g clip-path=\"url(#clip00)\">\n",
       "<text style=\"fill:#000000; fill-opacity:1; font-family:Arial,Helvetica Neue,Helvetica,sans-serif; font-size:12; text-anchor:end;\" transform=\"rotate(0, 26.2221, 89.1115)\" x=\"26.2221\" y=\"89.1115\">0.8</text>\n",
       "</g>\n",
       "<g clip-path=\"url(#clip00)\">\n",
       "<text style=\"fill:#000000; fill-opacity:1; font-family:Arial,Helvetica Neue,Helvetica,sans-serif; font-size:12; text-anchor:end;\" transform=\"rotate(0, 26.2221, 16.311)\" x=\"26.2221\" y=\"16.311\">1.0</text>\n",
       "</g>\n",
       "<polyline clip-path=\"url(#clip02)\" style=\"stroke:#009af9; stroke-width:1; stroke-opacity:1; fill:none\" points=\"\n",
       "  32.2221,373.377 37.703,373.123 43.184,372.842 48.6649,372.533 54.1458,372.191 59.6267,371.814 65.1077,371.399 70.5886,370.941 76.0695,370.436 81.5505,369.879 \n",
       "  87.0314,369.266 92.5123,368.592 97.9932,367.849 103.474,367.031 108.955,366.132 114.436,365.144 119.917,364.058 125.398,362.865 130.879,361.557 136.36,360.122 \n",
       "  141.841,358.55 147.322,356.829 152.803,354.947 158.283,352.891 163.764,350.647 169.245,348.201 174.726,345.538 180.207,342.644 185.688,339.504 191.169,336.102 \n",
       "  196.65,332.423 202.131,328.454 207.612,324.179 213.093,319.588 218.574,314.668 224.055,309.41 229.536,303.808 235.016,297.857 240.497,291.556 245.978,284.908 \n",
       "  251.459,277.918 256.94,270.598 262.421,262.963 267.902,255.033 273.383,246.831 278.864,238.388 284.345,229.735 289.826,220.909 295.307,211.952 300.788,202.905 \n",
       "  306.269,193.812 311.749,184.72 317.23,175.673 322.711,166.715 328.192,157.89 333.673,149.237 339.154,140.793 344.635,132.591 350.116,124.661 355.597,117.026 \n",
       "  361.078,109.706 366.559,102.717 372.04,96.0686 377.521,89.7676 383.002,83.8166 388.482,78.2144 393.963,72.9567 399.444,68.0368 404.925,63.4452 410.406,59.1708 \n",
       "  415.887,55.2012 421.368,51.5225 426.849,48.1204 432.33,44.98 437.811,42.0861 443.292,39.4236 448.773,36.9776 454.254,34.7335 459.735,32.6772 465.215,30.795 \n",
       "  470.696,29.0742 476.177,27.5022 481.658,26.0674 487.139,24.759 492.62,23.5667 498.101,22.4807 503.582,21.4924 509.063,20.5933 514.544,19.7759 520.025,19.0329 \n",
       "  525.506,18.358 530.987,17.7452 536.468,17.1888 541.948,16.6839 547.429,16.2258 552.91,15.8103 558.391,15.4335 563.872,15.0919 569.353,14.7822 574.834,14.5016 \n",
       "  580.315,14.2472 \n",
       "  \"/>\n",
       "<polyline clip-path=\"url(#clip02)\" style=\"stroke:#e26f46; stroke-width:1; stroke-opacity:1; fill:none\" points=\"\n",
       "  32.2221,375.813 37.703,375.813 43.184,375.813 48.6649,375.813 54.1458,375.813 59.6267,375.813 65.1077,375.813 70.5886,375.813 76.0695,375.813 81.5505,375.813 \n",
       "  87.0314,375.813 92.5123,375.813 97.9932,375.813 103.474,375.813 108.955,375.813 114.436,375.813 119.917,375.813 125.398,375.813 130.879,375.813 136.36,375.813 \n",
       "  141.841,375.813 147.322,375.813 152.803,375.813 158.283,375.813 163.764,375.813 169.245,375.813 174.726,375.813 180.207,375.813 185.688,375.813 191.169,375.813 \n",
       "  196.65,375.813 202.131,375.813 207.612,375.813 213.093,375.813 218.574,375.813 224.055,375.813 229.536,375.813 235.016,375.813 240.497,375.813 245.978,375.813 \n",
       "  251.459,375.813 256.94,375.813 262.421,375.813 267.902,375.813 273.383,375.813 278.864,375.813 284.345,375.813 289.826,375.813 295.307,375.813 300.788,375.797 \n",
       "  306.269,193.812 311.749,11.8275 317.23,11.811 322.711,11.811 328.192,11.811 333.673,11.811 339.154,11.811 344.635,11.811 350.116,11.811 355.597,11.811 \n",
       "  361.078,11.811 366.559,11.811 372.04,11.811 377.521,11.811 383.002,11.811 388.482,11.811 393.963,11.811 399.444,11.811 404.925,11.811 410.406,11.811 \n",
       "  415.887,11.811 421.368,11.811 426.849,11.811 432.33,11.811 437.811,11.811 443.292,11.811 448.773,11.811 454.254,11.811 459.735,11.811 465.215,11.811 \n",
       "  470.696,11.811 476.177,11.811 481.658,11.811 487.139,11.811 492.62,11.811 498.101,11.811 503.582,11.811 509.063,11.811 514.544,11.811 520.025,11.811 \n",
       "  525.506,11.811 530.987,11.811 536.468,11.811 541.948,11.811 547.429,11.811 552.91,11.811 558.391,11.811 563.872,11.811 569.353,11.811 574.834,11.811 \n",
       "  580.315,11.811 \n",
       "  \"/>\n",
       "<polyline clip-path=\"url(#clip02)\" style=\"stroke:#3da44d; stroke-width:1; stroke-opacity:1; fill:none\" points=\"\n",
       "  32.2221,375.813 37.703,375.813 43.184,375.813 48.6649,375.813 54.1458,375.813 59.6267,375.813 65.1077,375.813 70.5886,375.813 76.0695,375.813 81.5505,375.813 \n",
       "  87.0314,375.813 92.5123,375.813 97.9932,375.813 103.474,375.813 108.955,375.813 114.436,375.813 119.917,375.813 125.398,375.813 130.879,375.813 136.36,375.813 \n",
       "  141.841,375.813 147.322,375.813 152.803,375.813 158.283,375.813 163.764,375.813 169.245,375.813 174.726,375.813 180.207,375.813 185.688,375.813 191.169,375.813 \n",
       "  196.65,375.813 202.131,375.813 207.612,375.813 213.093,375.813 218.574,375.813 224.055,375.813 229.536,375.813 235.016,375.813 240.497,375.813 245.978,375.813 \n",
       "  251.459,375.813 256.94,375.813 262.421,375.813 267.902,375.813 273.383,375.813 278.864,375.813 284.345,375.813 289.826,375.813 295.307,375.813 300.788,375.813 \n",
       "  306.269,375.813 311.749,11.811 317.23,11.811 322.711,11.811 328.192,11.811 333.673,11.811 339.154,11.811 344.635,11.811 350.116,11.811 355.597,11.811 \n",
       "  361.078,11.811 366.559,11.811 372.04,11.811 377.521,11.811 383.002,11.811 388.482,11.811 393.963,11.811 399.444,11.811 404.925,11.811 410.406,11.811 \n",
       "  415.887,11.811 421.368,11.811 426.849,11.811 432.33,11.811 437.811,11.811 443.292,11.811 448.773,11.811 454.254,11.811 459.735,11.811 465.215,11.811 \n",
       "  470.696,11.811 476.177,11.811 481.658,11.811 487.139,11.811 492.62,11.811 498.101,11.811 503.582,11.811 509.063,11.811 514.544,11.811 520.025,11.811 \n",
       "  525.506,11.811 530.987,11.811 536.468,11.811 541.948,11.811 547.429,11.811 552.91,11.811 558.391,11.811 563.872,11.811 569.353,11.811 574.834,11.811 \n",
       "  580.315,11.811 \n",
       "  \"/>\n",
       "<polygon clip-path=\"url(#clip00)\" points=\"\n",
       "489.799,93.171 562.315,93.171 562.315,32.691 489.799,32.691 \n",
       "  \" fill=\"#ffffff\" fill-opacity=\"1\"/>\n",
       "<polyline clip-path=\"url(#clip00)\" style=\"stroke:#000000; stroke-width:1; stroke-opacity:1; fill:none\" points=\"\n",
       "  489.799,93.171 562.315,93.171 562.315,32.691 489.799,32.691 489.799,93.171 \n",
       "  \"/>\n",
       "<polyline clip-path=\"url(#clip00)\" style=\"stroke:#009af9; stroke-width:1; stroke-opacity:1; fill:none\" points=\"\n",
       "  495.799,47.811 531.799,47.811 \n",
       "  \"/>\n",
       "<g clip-path=\"url(#clip00)\">\n",
       "<text style=\"fill:#000000; fill-opacity:1; font-family:Arial,Helvetica Neue,Helvetica,sans-serif; font-size:12; text-anchor:start;\" transform=\"rotate(0, 537.799, 52.311)\" x=\"537.799\" y=\"52.311\">y1</text>\n",
       "</g>\n",
       "<polyline clip-path=\"url(#clip00)\" style=\"stroke:#e26f46; stroke-width:1; stroke-opacity:1; fill:none\" points=\"\n",
       "  495.799,62.931 531.799,62.931 \n",
       "  \"/>\n",
       "<g clip-path=\"url(#clip00)\">\n",
       "<text style=\"fill:#000000; fill-opacity:1; font-family:Arial,Helvetica Neue,Helvetica,sans-serif; font-size:12; text-anchor:start;\" transform=\"rotate(0, 537.799, 67.431)\" x=\"537.799\" y=\"67.431\">y2</text>\n",
       "</g>\n",
       "<polyline clip-path=\"url(#clip00)\" style=\"stroke:#3da44d; stroke-width:1; stroke-opacity:1; fill:none\" points=\"\n",
       "  495.799,78.051 531.799,78.051 \n",
       "  \"/>\n",
       "<g clip-path=\"url(#clip00)\">\n",
       "<text style=\"fill:#000000; fill-opacity:1; font-family:Arial,Helvetica Neue,Helvetica,sans-serif; font-size:12; text-anchor:start;\" transform=\"rotate(0, 537.799, 82.551)\" x=\"537.799\" y=\"82.551\">y3</text>\n",
       "</g>\n",
       "</svg>\n"
      ]
     },
     "execution_count": 84,
     "metadata": {},
     "output_type": "execute_result"
    }
   ],
   "source": [
    "z=-5:0.1:5\n",
    "plot(z,sigmoid.(z))\n",
    "plot!(z,sigmoid.(100z))\n",
    "plot!(z,step.(z))"
   ]
  },
  {
   "cell_type": "code",
   "execution_count": null,
   "metadata": {
    "collapsed": true
   },
   "outputs": [],
   "source": []
  }
 ],
 "metadata": {
  "kernelspec": {
   "display_name": "Julia 0.6.0-rc3",
   "language": "julia",
   "name": "julia-0.6"
  },
  "language_info": {
   "file_extension": ".jl",
   "mimetype": "application/julia",
   "name": "julia",
   "version": "0.6.1"
  }
 },
 "nbformat": 4,
 "nbformat_minor": 1
}
